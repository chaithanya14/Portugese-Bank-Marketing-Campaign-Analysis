{
  "nbformat": 4,
  "nbformat_minor": 0,
  "metadata": {
    "colab": {
      "name": " Exploratory Data Analysis- Part 1.ipynb",
      "provenance": []
    },
    "kernelspec": {
      "name": "python3",
      "display_name": "Python 3"
    }
  },
  "cells": [
    {
      "cell_type": "markdown",
      "metadata": {
        "id": "sdDrykFSXskB",
        "colab_type": "text"
      },
      "source": [
        "### < center fontcolor = \"red\" > Exploratory Data Analysis\n"
      ]
    },
    {
      "cell_type": "markdown",
      "metadata": {
        "id": "tofNYD5vYKb8",
        "colab_type": "text"
      },
      "source": [
        "#### Import Necessary Packages"
      ]
    },
    {
      "cell_type": "code",
      "metadata": {
        "id": "r0W_fch6XqlL",
        "colab_type": "code",
        "colab": {}
      },
      "source": [
        "import pandas as pd\n",
        "import numpy as np\n",
        "import matplotlib.pyplot as plt\n",
        "import seaborn as sns\n",
        "from sklearn.metrics import f1_score\n",
        "from sklearn.metrics import cohen_kappa_score\n",
        "from mlxtend.classifier import StackingCVClassifier\n",
        "\n",
        "from sklearn.model_selection import cross_validate\n",
        "from sklearn.model_selection import StratifiedKFold\n",
        "from sklearn.metrics import recall_score\n",
        "from sklearn.model_selection import cross_val_score\n",
        "from pylab import rcParams\n",
        "\n",
        "\n",
        "%matplotlib inline\n",
        "\n",
        "pd.set_option('display.max_rows', None)\n",
        "pd.set_option('display.max_columns', None)\n",
        "pd.set_option('display.width', None)\n",
        "pd.set_option('display.max_colwidth', -1)\n",
        "\n",
        "# Used to ignore warnings generated from StackingCVClassifier\n",
        "import warnings\n",
        "warnings.simplefilter('ignore')\n"
      ],
      "execution_count": 0,
      "outputs": []
    },
    {
      "cell_type": "code",
      "metadata": {
        "id": "xUxjCtw6IPQ8",
        "colab_type": "code",
        "colab": {}
      },
      "source": [
        "# Mount the data on drive\n",
        "import importlib.util\n",
        "import sys\n",
        "from google.colab import drive\n",
        "\n",
        "drive.mount('/content/drive')\n",
        "\n",
        "## Load the train data\n",
        "sys.path.insert(0, '/content/drive/Games_data/')\n",
        "data_add_train = pd.read_csv('/content/drive/My Drive/Games_data/bank-additional-full.csv')\n"
      ],
      "execution_count": 0,
      "outputs": []
    },
    {
      "cell_type": "code",
      "metadata": {
        "id": "kgNk0dQSYZKX",
        "colab_type": "code",
        "colab": {
          "base_uri": "https://localhost:8080/",
          "height": 214
        },
        "outputId": "299e4937-c4da-4a35-c741-63c3e91d7ca0"
      },
      "source": [
        "data_add_train.head()"
      ],
      "execution_count": 3,
      "outputs": [
        {
          "output_type": "execute_result",
          "data": {
            "text/html": [
              "<div>\n",
              "<style scoped>\n",
              "    .dataframe tbody tr th:only-of-type {\n",
              "        vertical-align: middle;\n",
              "    }\n",
              "\n",
              "    .dataframe tbody tr th {\n",
              "        vertical-align: top;\n",
              "    }\n",
              "\n",
              "    .dataframe thead th {\n",
              "        text-align: right;\n",
              "    }\n",
              "</style>\n",
              "<table border=\"1\" class=\"dataframe\">\n",
              "  <thead>\n",
              "    <tr style=\"text-align: right;\">\n",
              "      <th></th>\n",
              "      <th>age</th>\n",
              "      <th>job</th>\n",
              "      <th>marital</th>\n",
              "      <th>education</th>\n",
              "      <th>default</th>\n",
              "      <th>housing</th>\n",
              "      <th>loan</th>\n",
              "      <th>contact</th>\n",
              "      <th>month</th>\n",
              "      <th>day_of_week</th>\n",
              "      <th>duration</th>\n",
              "      <th>campaign</th>\n",
              "      <th>pdays</th>\n",
              "      <th>previous</th>\n",
              "      <th>poutcome</th>\n",
              "      <th>emp.var.rate</th>\n",
              "      <th>cons.price.idx</th>\n",
              "      <th>cons.conf.idx</th>\n",
              "      <th>euribor3m</th>\n",
              "      <th>nr.employed</th>\n",
              "      <th>y</th>\n",
              "    </tr>\n",
              "  </thead>\n",
              "  <tbody>\n",
              "    <tr>\n",
              "      <th>0</th>\n",
              "      <td>56</td>\n",
              "      <td>housemaid</td>\n",
              "      <td>married</td>\n",
              "      <td>basic.4y</td>\n",
              "      <td>no</td>\n",
              "      <td>no</td>\n",
              "      <td>no</td>\n",
              "      <td>telephone</td>\n",
              "      <td>may</td>\n",
              "      <td>mon</td>\n",
              "      <td>261</td>\n",
              "      <td>1</td>\n",
              "      <td>999</td>\n",
              "      <td>0</td>\n",
              "      <td>nonexistent</td>\n",
              "      <td>1.1</td>\n",
              "      <td>93.994</td>\n",
              "      <td>-36.4</td>\n",
              "      <td>4.857</td>\n",
              "      <td>5191.0</td>\n",
              "      <td>no</td>\n",
              "    </tr>\n",
              "    <tr>\n",
              "      <th>1</th>\n",
              "      <td>57</td>\n",
              "      <td>services</td>\n",
              "      <td>married</td>\n",
              "      <td>high.school</td>\n",
              "      <td>unknown</td>\n",
              "      <td>no</td>\n",
              "      <td>no</td>\n",
              "      <td>telephone</td>\n",
              "      <td>may</td>\n",
              "      <td>mon</td>\n",
              "      <td>149</td>\n",
              "      <td>1</td>\n",
              "      <td>999</td>\n",
              "      <td>0</td>\n",
              "      <td>nonexistent</td>\n",
              "      <td>1.1</td>\n",
              "      <td>93.994</td>\n",
              "      <td>-36.4</td>\n",
              "      <td>4.857</td>\n",
              "      <td>5191.0</td>\n",
              "      <td>no</td>\n",
              "    </tr>\n",
              "    <tr>\n",
              "      <th>2</th>\n",
              "      <td>37</td>\n",
              "      <td>services</td>\n",
              "      <td>married</td>\n",
              "      <td>high.school</td>\n",
              "      <td>no</td>\n",
              "      <td>yes</td>\n",
              "      <td>no</td>\n",
              "      <td>telephone</td>\n",
              "      <td>may</td>\n",
              "      <td>mon</td>\n",
              "      <td>226</td>\n",
              "      <td>1</td>\n",
              "      <td>999</td>\n",
              "      <td>0</td>\n",
              "      <td>nonexistent</td>\n",
              "      <td>1.1</td>\n",
              "      <td>93.994</td>\n",
              "      <td>-36.4</td>\n",
              "      <td>4.857</td>\n",
              "      <td>5191.0</td>\n",
              "      <td>no</td>\n",
              "    </tr>\n",
              "    <tr>\n",
              "      <th>3</th>\n",
              "      <td>40</td>\n",
              "      <td>admin.</td>\n",
              "      <td>married</td>\n",
              "      <td>basic.6y</td>\n",
              "      <td>no</td>\n",
              "      <td>no</td>\n",
              "      <td>no</td>\n",
              "      <td>telephone</td>\n",
              "      <td>may</td>\n",
              "      <td>mon</td>\n",
              "      <td>151</td>\n",
              "      <td>1</td>\n",
              "      <td>999</td>\n",
              "      <td>0</td>\n",
              "      <td>nonexistent</td>\n",
              "      <td>1.1</td>\n",
              "      <td>93.994</td>\n",
              "      <td>-36.4</td>\n",
              "      <td>4.857</td>\n",
              "      <td>5191.0</td>\n",
              "      <td>no</td>\n",
              "    </tr>\n",
              "    <tr>\n",
              "      <th>4</th>\n",
              "      <td>56</td>\n",
              "      <td>services</td>\n",
              "      <td>married</td>\n",
              "      <td>high.school</td>\n",
              "      <td>no</td>\n",
              "      <td>no</td>\n",
              "      <td>yes</td>\n",
              "      <td>telephone</td>\n",
              "      <td>may</td>\n",
              "      <td>mon</td>\n",
              "      <td>307</td>\n",
              "      <td>1</td>\n",
              "      <td>999</td>\n",
              "      <td>0</td>\n",
              "      <td>nonexistent</td>\n",
              "      <td>1.1</td>\n",
              "      <td>93.994</td>\n",
              "      <td>-36.4</td>\n",
              "      <td>4.857</td>\n",
              "      <td>5191.0</td>\n",
              "      <td>no</td>\n",
              "    </tr>\n",
              "  </tbody>\n",
              "</table>\n",
              "</div>"
            ],
            "text/plain": [
              "   age        job  marital    education  default housing loan    contact  \\\n",
              "0  56   housemaid  married  basic.4y     no       no      no   telephone   \n",
              "1  57   services   married  high.school  unknown  no      no   telephone   \n",
              "2  37   services   married  high.school  no       yes     no   telephone   \n",
              "3  40   admin.     married  basic.6y     no       no      no   telephone   \n",
              "4  56   services   married  high.school  no       no      yes  telephone   \n",
              "\n",
              "  month day_of_week  duration  campaign  pdays  previous     poutcome  \\\n",
              "0  may   mon         261       1         999    0         nonexistent   \n",
              "1  may   mon         149       1         999    0         nonexistent   \n",
              "2  may   mon         226       1         999    0         nonexistent   \n",
              "3  may   mon         151       1         999    0         nonexistent   \n",
              "4  may   mon         307       1         999    0         nonexistent   \n",
              "\n",
              "   emp.var.rate  cons.price.idx  cons.conf.idx  euribor3m  nr.employed   y  \n",
              "0  1.1           93.994         -36.4           4.857      5191.0       no  \n",
              "1  1.1           93.994         -36.4           4.857      5191.0       no  \n",
              "2  1.1           93.994         -36.4           4.857      5191.0       no  \n",
              "3  1.1           93.994         -36.4           4.857      5191.0       no  \n",
              "4  1.1           93.994         -36.4           4.857      5191.0       no  "
            ]
          },
          "metadata": {
            "tags": []
          },
          "execution_count": 3
        }
      ]
    },
    {
      "cell_type": "code",
      "metadata": {
        "id": "5jkOOslfYdLs",
        "colab_type": "code",
        "colab": {
          "base_uri": "https://localhost:8080/",
          "height": 35
        },
        "outputId": "ea1de82b-2c11-42e0-dec5-291f647e5d17"
      },
      "source": [
        "# Shape of the dataset\n",
        "data_add_train.shape"
      ],
      "execution_count": 4,
      "outputs": [
        {
          "output_type": "execute_result",
          "data": {
            "text/plain": [
              "(41188, 21)"
            ]
          },
          "metadata": {
            "tags": []
          },
          "execution_count": 4
        }
      ]
    },
    {
      "cell_type": "code",
      "metadata": {
        "id": "rf5gCHoQYjq1",
        "colab_type": "code",
        "colab": {
          "base_uri": "https://localhost:8080/",
          "height": 408
        },
        "outputId": "6fde8efc-8b55-47c8-f4cd-03d44aa731e5"
      },
      "source": [
        "# Check Missing Values\n",
        "data_add_train.isnull().sum()"
      ],
      "execution_count": 5,
      "outputs": [
        {
          "output_type": "execute_result",
          "data": {
            "text/plain": [
              "age               0\n",
              "job               0\n",
              "marital           0\n",
              "education         0\n",
              "default           0\n",
              "housing           0\n",
              "loan              0\n",
              "contact           0\n",
              "month             0\n",
              "day_of_week       0\n",
              "duration          0\n",
              "campaign          0\n",
              "pdays             0\n",
              "previous          0\n",
              "poutcome          0\n",
              "emp.var.rate      0\n",
              "cons.price.idx    0\n",
              "cons.conf.idx     0\n",
              "euribor3m         0\n",
              "nr.employed       0\n",
              "y                 0\n",
              "dtype: int64"
            ]
          },
          "metadata": {
            "tags": []
          },
          "execution_count": 5
        }
      ]
    },
    {
      "cell_type": "code",
      "metadata": {
        "id": "63Kp7JoZYoaS",
        "colab_type": "code",
        "colab": {
          "base_uri": "https://localhost:8080/",
          "height": 70
        },
        "outputId": "c6169ef8-cd9a-4305-c6b1-6d530aef81bd"
      },
      "source": [
        "# The data has high class imbalance issue\n",
        "data_add_train.y.value_counts()"
      ],
      "execution_count": 7,
      "outputs": [
        {
          "output_type": "execute_result",
          "data": {
            "text/plain": [
              "no     36548\n",
              "yes    4640 \n",
              "Name: y, dtype: int64"
            ]
          },
          "metadata": {
            "tags": []
          },
          "execution_count": 7
        }
      ]
    },
    {
      "cell_type": "code",
      "metadata": {
        "id": "bRWHjMk8IPWP",
        "colab_type": "code",
        "colab": {
          "base_uri": "https://localhost:8080/",
          "height": 300
        },
        "outputId": "7ab02cd0-087b-4f23-a881-6cdf7d560f1d"
      },
      "source": [
        "# Let's Visualize the Target Variable\n",
        "fig = plt.gcf()\n",
        "fig.set_size_inches(2,2)\n",
        "\n",
        "# Pie chart\n",
        "labels = ['no', 'yes']\n",
        "sizes = [15, 30, 45, 10]\n",
        "explode = (0, 0.2)  \n",
        "fig1, ax1 = plt.subplots()\n",
        "\n",
        "sizes = data_add_train['y'].value_counts(sort = True)\n",
        "rcParams['figure.figsize'] = 5,5\n",
        "ss = ['darkorange','blue']\n",
        "# Plot\n",
        "plt.pie(sizes, explode=explode,colors = ss,labels=labels,\n",
        "        autopct='%1.1f%%', shadow=True, startangle=30)\n",
        "plt.title('Percentage of Subscription in Dataset',)\n",
        "\n"
      ],
      "execution_count": 8,
      "outputs": [
        {
          "output_type": "execute_result",
          "data": {
            "text/plain": [
              "Text(0.5, 1.0, 'Percentage of Subscription in Dataset')"
            ]
          },
          "metadata": {
            "tags": []
          },
          "execution_count": 8
        },
        {
          "output_type": "display_data",
          "data": {
            "text/plain": [
              "<Figure size 144x144 with 0 Axes>"
            ]
          },
          "metadata": {
            "tags": []
          }
        },
        {
          "output_type": "display_data",
          "data": {
            "image/png": "[encoded data removed]",
            "text/plain": [
              "<Figure size 432x288 with 1 Axes>"
            ]
          },
          "metadata": {
            "tags": []
          }
        }
      ]
    },
    {
      "cell_type": "markdown",
      "metadata": {
        "id": "PrlQbnfkZD8D",
        "colab_type": "text"
      },
      "source": [
        "## Perform Univariate Analysis"
      ]
    },
    {
      "cell_type": "code",
      "metadata": {
        "id": "AHGg2tpEIPbn",
        "colab_type": "code",
        "colab": {}
      },
      "source": [
        "%matplotlib inline\n",
        "\n",
        "def countplot_withY(label, dataset):\n",
        "    plt.figure(figsize=(20,10))\n",
        "    Y = data[label]\n",
        "    total = len(Y)*1.\n",
        "    ax=sns.countplot(x=label, data=dataset, hue=\"y\")\n",
        "    for p in ax.patches:\n",
        "        ax.annotate('{:.1f}%'.format(100*p.get_height()/total), (p.get_x()+0.1, p.get_height()+5))\n",
        "\n",
        "  #put 11 ticks (therefore 10 steps), from 0 to the total number of rows in the dataframe\n",
        "    ax.yaxis.set_ticks(np.linspace(0, total, 11))\n",
        "  #adjust the ticklabel to the desired format, without changing the position of the ticks.\n",
        "    ax.set_yticklabels(map('{:.1f}%'.format, 100*ax.yaxis.get_majorticklocs()/total))\n",
        "    ax.set_xticklabels(ax.get_xticklabels(), rotation=40, ha=\"right\")\n",
        "    plt.show()"
      ],
      "execution_count": 0,
      "outputs": []
    },
    {
      "cell_type": "markdown",
      "metadata": {
        "id": "pr-bk8--ZL5m",
        "colab_type": "text"
      },
      "source": [
        "#### Which age group are more likely to subscribe?\n"
      ]
    },
    {
      "cell_type": "code",
      "metadata": {
        "id": "lUuEQZgBIPg4",
        "colab_type": "code",
        "colab": {
          "base_uri": "https://localhost:8080/",
          "height": 602
        },
        "outputId": "b92bfad7-4807-4536-ce7f-10cc3ff702d5"
      },
      "source": [
        "bins = [10,20,30,40,50,60,70,80,90,100]\n",
        "data_add_train['age_bin'] = pd.cut(data_add_train['age'], bins)\n",
        "\n",
        "sns.set(rc={'figure.figsize':(11.7,8.27)})\n",
        "sns.countplot(x='age_bin',hue='y',data=data_add_train,order = data_add_train['age_bin'].value_counts().index,palette=\"Set1\").set_title('Age Wise Subscription Rate')\n",
        "plt.xticks(rotation=45)\n"
      ],
      "execution_count": 13,
      "outputs": [
        {
          "output_type": "execute_result",
          "data": {
            "text/plain": [
              "(array([0, 1, 2, 3, 4, 5, 6, 7, 8]),\n",
              " <a list of 9 Text major ticklabel objects>)"
            ]
          },
          "metadata": {
            "tags": []
          },
          "execution_count": 13
        },
        {
          "output_type": "display_data",
          "data": {
            "image/png": "[encoded data removed]",
            "text/plain": [
              "<Figure size 842.4x595.44 with 1 Axes>"
            ]
          },
          "metadata": {
            "tags": []
          }
        }
      ]
    },
    {
      "cell_type": "markdown",
      "metadata": {
        "id": "rwSWucRNbcZj",
        "colab_type": "text"
      },
      "source": [
        "* From the above chart we could see that, majority of population whose ages between 20's to 50's are moe are inclined towards subscription.  "
      ]
    },
    {
      "cell_type": "code",
      "metadata": {
        "id": "PZSqGCoAI2_c",
        "colab_type": "code",
        "colab": {}
      },
      "source": [
        "# Let's Look into the individual difference between subscribers vs non-subscribers\n",
        "data_add_train_1 = data_add_train.loc[data_add_train['y'] == 'yes']\n",
        "data_add_train_0 = data_add_train.loc[data_add_train['y'] == 'no']"
      ],
      "execution_count": 0,
      "outputs": []
    },
    {
      "cell_type": "code",
      "metadata": {
        "id": "AYo3cS1OI3Er",
        "colab_type": "code",
        "colab": {
          "base_uri": "https://localhost:8080/",
          "height": 711
        },
        "outputId": "b2755236-b563-4c92-8a7b-4dca7094c18d"
      },
      "source": [
        "## Distribution of customers who subscribed the term\n",
        "\n",
        "plt.figure(figsize=[8,5])\n",
        "\n",
        "data_add_train_1['age'].hist(bins=30,color = 'slateblue')\n",
        "plt.xlabel('Age')\n",
        "plt.ylabel('Frequency')\n",
        "\n",
        "plt.title('Age Distribution of Subscribers')\n",
        "\n",
        "# Age Distriburtion of customers who were not subscribed\n",
        "plt.figure(figsize=[8,5])\n",
        "data_add_train_0['age'].hist(bins = 30,color = 'orangered')\n",
        "plt.xlabel('Age')\n",
        "plt.ylabel('Frequency')\n",
        "\n",
        "plt.title('Age Distribution of Non Subscribers')"
      ],
      "execution_count": 15,
      "outputs": [
        {
          "output_type": "execute_result",
          "data": {
            "text/plain": [
              "Text(0.5, 1.0, 'Age Distribution of Non Subscribers')"
            ]
          },
          "metadata": {
            "tags": []
          },
          "execution_count": 15
        },
        {
          "output_type": "display_data",
          "data": {
            "image/png": "[encoded data removed]",
            "text/plain": [
              "<Figure size 576x360 with 1 Axes>"
            ]
          },
          "metadata": {
            "tags": []
          }
        },
        {
          "output_type": "display_data",
          "data": {
            "image/png": "[encoded data removed]",
            "text/plain": [
              "<Figure size 576x360 with 1 Axes>"
            ]
          },
          "metadata": {
            "tags": []
          }
        }
      ]
    },
    {
      "cell_type": "code",
      "metadata": {
        "id": "IZX9P-4TI29i",
        "colab_type": "code",
        "colab": {
          "base_uri": "https://localhost:8080/",
          "height": 124
        },
        "outputId": "4105cab4-799d-42e3-e075-f660e17ec009"
      },
      "source": [
        "# Filter the data over 60+ and 60- Customers\n",
        "data_add_train_ = data_add_train.loc[data_add_train['age'] >= 60]\n",
        "data_add_train_1 = data_add_train.loc[data_add_train['age'] < 60]\n",
        "data_add_train_['age_type'] = '60+'\n",
        "data_add_train_1['age_type'] = '60-'\n",
        "\n",
        "data_add_train_12 = data_add_train_.append(data_add_train_1)\n",
        "data_add_train_12.groupby([\"age_type\", \"y\"]).size()"
      ],
      "execution_count": 40,
      "outputs": [
        {
          "output_type": "execute_result",
          "data": {
            "text/plain": [
              "age_type  y  \n",
              "60+       no     721  \n",
              "          yes    472  \n",
              "60-       no     35827\n",
              "          yes    4168 \n",
              "dtype: int64"
            ]
          },
          "metadata": {
            "tags": []
          },
          "execution_count": 40
        }
      ]
    },
    {
      "cell_type": "markdown",
      "metadata": {
        "id": "BVHKFBletTm7",
        "colab_type": "text"
      },
      "source": [
        "*  In general banks seems not much interest in campaigning for customers who ages, i.e elderly aged people. But from the above distribution chart it is clearly evident that, elderly customers are not willing to subscribe more compare to the younger ones"
      ]
    },
    {
      "cell_type": "markdown",
      "metadata": {
        "id": "iGdk6VPecOUz",
        "colab_type": "text"
      },
      "source": [
        "### Let's Explore to other feautures\n"
      ]
    },
    {
      "cell_type": "code",
      "metadata": {
        "id": "tVvjvOnQIPaE",
        "colab_type": "code",
        "colab": {}
      },
      "source": [
        "data_add_train['Percent'] = 1 \n",
        "data = data_add_train.groupby(['job','y']).agg({'Percent': 'sum'})\n",
        "# state_office = df.groupby(['state', 'office_id']).agg({'sales': 'sum'})\n",
        "dat = data.groupby(['job']).agg({'Percent': 'sum'})\n",
        "job_y = data.div(dat, level='job') * 100\n",
        "job_y.reset_index(inplace = True)"
      ],
      "execution_count": 0,
      "outputs": []
    },
    {
      "cell_type": "code",
      "metadata": {
        "id": "5Qa29upMJ5cG",
        "colab_type": "code",
        "colab": {}
      },
      "source": [
        "job_y = job_y[job_y.job != 'unknown']\n"
      ],
      "execution_count": 0,
      "outputs": []
    },
    {
      "cell_type": "code",
      "metadata": {
        "id": "36CplWACKclK",
        "colab_type": "code",
        "colab": {}
      },
      "source": [
        "df_top = job_y.loc[job_y['Percent'] >= 0.1,\n",
        "                             ['job', 'y', 'Percent']].pivot(columns='y',\n",
        "                                                                    index='job',\n",
        "                                                                    values='Percent')\n",
        "\n"
      ],
      "execution_count": 0,
      "outputs": []
    },
    {
      "cell_type": "code",
      "metadata": {
        "id": "X9izw73jIPUU",
        "colab_type": "code",
        "colab": {
          "base_uri": "https://localhost:8080/",
          "height": 688
        },
        "outputId": "f33a9bc3-02ee-4749-b0ad-74e6afdc2211"
      },
      "source": [
        "ax = df_top.plot.barh(stacked=True, figsize=(14,11), cmap=plt.cm.get_cmap('RdYlBu'),alpha = 0.7)\n",
        "for p in ax.patches:\n",
        "    width, height = p.get_width(), p.get_height()\n",
        "    if width > 4:\n",
        "        ax.annotate(f\"{width:.0f}\", (p.get_x()+0.30*width,\n",
        "                                     p.get_y()+.17*height), color='white', fontsize=15)\n",
        "\n",
        "plt.title('Job category wise breakup of Non-Subscribers Vs Subscribers', size=20)\n",
        "plt.xlabel('Non-Subscribers Vs Subscribers (%)',size=15)\n",
        "plt.ylabel('Job',size=15)\n",
        "\n",
        "plt.box(False)\n"
      ],
      "execution_count": 46,
      "outputs": [
        {
          "output_type": "display_data",
          "data": {
            "image/png": "[encoded data removed]",
            "text/plain": [
              "<Figure size 1008x792 with 1 Axes>"
            ]
          },
          "metadata": {
            "tags": []
          }
        }
      ]
    },
    {
      "cell_type": "markdown",
      "metadata": {
        "id": "S2xiSmT7L_NZ",
        "colab_type": "text"
      },
      "source": [
        "* From the above stacked barchart, it was surprising that, students (31%), retired people (25%) and unemployed (14%) categories show the best relative frequencies of term deposit subscription. Other classes range between 6.9% (blue-collar) and 13.0% (admin.)\n",
        "\n"
      ]
    },
    {
      "cell_type": "code",
      "metadata": {
        "id": "Fb0faokjXL6k",
        "colab_type": "code",
        "colab": {}
      },
      "source": [
        "## Marital Status\n",
        "data = data_add_train.groupby(['marital','y']).agg({'Percent': 'sum'})\n",
        "##  Grouby marital\n",
        "dat = data.groupby(['marital']).agg({'Percent': 'sum'})\n"
      ],
      "execution_count": 0,
      "outputs": []
    },
    {
      "cell_type": "code",
      "metadata": {
        "id": "f-bmMwALXQbx",
        "colab_type": "code",
        "colab": {}
      },
      "source": [
        "job_y = data.div(dat, level='marital') * 100\n",
        "job_y.reset_index(inplace = True)\n",
        "job_y = job_y[job_y.marital != 'unknown']\n",
        "\n",
        "df_top = job_y.loc[job_y['Percent'] >= 0.1,\n",
        "                             ['marital', 'y', 'Percent']].pivot(columns='y',\n",
        "                                                                    index='marital',\n",
        "                                                                    values='Percent')"
      ],
      "execution_count": 0,
      "outputs": []
    },
    {
      "cell_type": "code",
      "metadata": {
        "id": "aZqH71rOLLuU",
        "colab_type": "code",
        "colab": {
          "base_uri": "https://localhost:8080/",
          "height": 421
        },
        "outputId": "e3a41733-835d-4361-a3f6-cadb2ca2e0e9"
      },
      "source": [
        "ax = df_top.plot.barh(stacked=True, figsize=(12,6), cmap=plt.cm.get_cmap('RdYlBu'),alpha = 0.7)\n",
        "for p in ax.patches:\n",
        "    width, height = p.get_width(), p.get_height()\n",
        "    if width > 4:\n",
        "        ax.annotate(f\"{width:.0f}\", (p.get_x()+0.30*width,\n",
        "                                     p.get_y()+.17*height), color='white', fontsize=20)\n",
        "\n",
        "ax.legend(bbox_to_anchor=(1, 1))\n",
        "\n",
        "plt.title('Marital Stauts wise breakup of Non-Subscribers Vs Subscribers', size=20)\n",
        "plt.xlabel('Non-Subscribers Vs Subscribers (%)',size=15)\n",
        "plt.xticks(fontsize=14)#, rotation=90)\n",
        "plt.yticks(fontsize=14, rotation=45)\n",
        "\n",
        "plt.ylabel('Job',size=15)\n",
        "\n",
        "plt.box(False)\n",
        "#plt.savefig('myfig_columnar')\n"
      ],
      "execution_count": 25,
      "outputs": [
        {
          "output_type": "display_data",
          "data": {
            "image/png": "[encoded data removed]",
            "text/plain": [
              "<Figure size 864x432 with 1 Axes>"
            ]
          },
          "metadata": {
            "tags": []
          }
        }
      ]
    },
    {
      "cell_type": "markdown",
      "metadata": {
        "id": "UjtZ_tkLaYH-",
        "colab_type": "text"
      },
      "source": [
        "Singles are slightly to subscribe, nearly (14.0%) to term deposits than others which are around 10%.\n",
        "\n",
        "\n",
        "\n"
      ]
    },
    {
      "cell_type": "code",
      "metadata": {
        "id": "l-HC31PFLLqx",
        "colab_type": "code",
        "colab": {}
      },
      "source": [
        "## Month\n",
        "data = data_add_train.groupby(['month','y']).agg({'Percent': 'sum'})\n",
        "data.reset_index(inplace = True)"
      ],
      "execution_count": 0,
      "outputs": []
    },
    {
      "cell_type": "code",
      "metadata": {
        "id": "w21PqGqkgFv0",
        "colab_type": "code",
        "colab": {
          "base_uri": "https://localhost:8080/",
          "height": 634
        },
        "outputId": "52568d84-6cfb-4224-90cc-a1f049ad7eb9"
      },
      "source": [
        "data"
      ],
      "execution_count": 111,
      "outputs": [
        {
          "output_type": "execute_result",
          "data": {
            "text/html": [
              "<div>\n",
              "<style scoped>\n",
              "    .dataframe tbody tr th:only-of-type {\n",
              "        vertical-align: middle;\n",
              "    }\n",
              "\n",
              "    .dataframe tbody tr th {\n",
              "        vertical-align: top;\n",
              "    }\n",
              "\n",
              "    .dataframe thead th {\n",
              "        text-align: right;\n",
              "    }\n",
              "</style>\n",
              "<table border=\"1\" class=\"dataframe\">\n",
              "  <thead>\n",
              "    <tr style=\"text-align: right;\">\n",
              "      <th></th>\n",
              "      <th>month</th>\n",
              "      <th>y</th>\n",
              "      <th>Percent</th>\n",
              "    </tr>\n",
              "  </thead>\n",
              "  <tbody>\n",
              "    <tr>\n",
              "      <th>0</th>\n",
              "      <td>apr</td>\n",
              "      <td>no</td>\n",
              "      <td>2093</td>\n",
              "    </tr>\n",
              "    <tr>\n",
              "      <th>1</th>\n",
              "      <td>apr</td>\n",
              "      <td>yes</td>\n",
              "      <td>539</td>\n",
              "    </tr>\n",
              "    <tr>\n",
              "      <th>2</th>\n",
              "      <td>aug</td>\n",
              "      <td>no</td>\n",
              "      <td>5523</td>\n",
              "    </tr>\n",
              "    <tr>\n",
              "      <th>3</th>\n",
              "      <td>aug</td>\n",
              "      <td>yes</td>\n",
              "      <td>655</td>\n",
              "    </tr>\n",
              "    <tr>\n",
              "      <th>4</th>\n",
              "      <td>dec</td>\n",
              "      <td>no</td>\n",
              "      <td>93</td>\n",
              "    </tr>\n",
              "    <tr>\n",
              "      <th>5</th>\n",
              "      <td>dec</td>\n",
              "      <td>yes</td>\n",
              "      <td>89</td>\n",
              "    </tr>\n",
              "    <tr>\n",
              "      <th>6</th>\n",
              "      <td>jul</td>\n",
              "      <td>no</td>\n",
              "      <td>6525</td>\n",
              "    </tr>\n",
              "    <tr>\n",
              "      <th>7</th>\n",
              "      <td>jul</td>\n",
              "      <td>yes</td>\n",
              "      <td>649</td>\n",
              "    </tr>\n",
              "    <tr>\n",
              "      <th>8</th>\n",
              "      <td>jun</td>\n",
              "      <td>no</td>\n",
              "      <td>4759</td>\n",
              "    </tr>\n",
              "    <tr>\n",
              "      <th>9</th>\n",
              "      <td>jun</td>\n",
              "      <td>yes</td>\n",
              "      <td>559</td>\n",
              "    </tr>\n",
              "    <tr>\n",
              "      <th>10</th>\n",
              "      <td>mar</td>\n",
              "      <td>no</td>\n",
              "      <td>270</td>\n",
              "    </tr>\n",
              "    <tr>\n",
              "      <th>11</th>\n",
              "      <td>mar</td>\n",
              "      <td>yes</td>\n",
              "      <td>276</td>\n",
              "    </tr>\n",
              "    <tr>\n",
              "      <th>12</th>\n",
              "      <td>may</td>\n",
              "      <td>no</td>\n",
              "      <td>12883</td>\n",
              "    </tr>\n",
              "    <tr>\n",
              "      <th>13</th>\n",
              "      <td>may</td>\n",
              "      <td>yes</td>\n",
              "      <td>886</td>\n",
              "    </tr>\n",
              "    <tr>\n",
              "      <th>14</th>\n",
              "      <td>nov</td>\n",
              "      <td>no</td>\n",
              "      <td>3685</td>\n",
              "    </tr>\n",
              "    <tr>\n",
              "      <th>15</th>\n",
              "      <td>nov</td>\n",
              "      <td>yes</td>\n",
              "      <td>416</td>\n",
              "    </tr>\n",
              "    <tr>\n",
              "      <th>16</th>\n",
              "      <td>oct</td>\n",
              "      <td>no</td>\n",
              "      <td>403</td>\n",
              "    </tr>\n",
              "    <tr>\n",
              "      <th>17</th>\n",
              "      <td>oct</td>\n",
              "      <td>yes</td>\n",
              "      <td>315</td>\n",
              "    </tr>\n",
              "    <tr>\n",
              "      <th>18</th>\n",
              "      <td>sep</td>\n",
              "      <td>no</td>\n",
              "      <td>314</td>\n",
              "    </tr>\n",
              "    <tr>\n",
              "      <th>19</th>\n",
              "      <td>sep</td>\n",
              "      <td>yes</td>\n",
              "      <td>256</td>\n",
              "    </tr>\n",
              "  </tbody>\n",
              "</table>\n",
              "</div>"
            ],
            "text/plain": [
              "   month    y  Percent\n",
              "0   apr   no   2093   \n",
              "1   apr   yes  539    \n",
              "2   aug   no   5523   \n",
              "3   aug   yes  655    \n",
              "4   dec   no   93     \n",
              "5   dec   yes  89     \n",
              "6   jul   no   6525   \n",
              "7   jul   yes  649    \n",
              "8   jun   no   4759   \n",
              "9   jun   yes  559    \n",
              "10  mar   no   270    \n",
              "11  mar   yes  276    \n",
              "12  may   no   12883  \n",
              "13  may   yes  886    \n",
              "14  nov   no   3685   \n",
              "15  nov   yes  416    \n",
              "16  oct   no   403    \n",
              "17  oct   yes  315    \n",
              "18  sep   no   314    \n",
              "19  sep   yes  256    "
            ]
          },
          "metadata": {
            "tags": []
          },
          "execution_count": 111
        }
      ]
    },
    {
      "cell_type": "code",
      "metadata": {
        "id": "9Qs3prlffqrq",
        "colab_type": "code",
        "colab": {}
      },
      "source": [
        "df_top20 =data[['month', 'y', 'Percent']].pivot(columns='y',index='month',values='Percent')"
      ],
      "execution_count": 0,
      "outputs": []
    },
    {
      "cell_type": "code",
      "metadata": {
        "id": "M5PBK4TMgdF-",
        "colab_type": "code",
        "colab": {
          "base_uri": "https://localhost:8080/",
          "height": 588
        },
        "outputId": "96d6142c-d7e1-43e3-8af7-1d6e51748724"
      },
      "source": [
        "\n",
        "df_top20['total'] = df_top20.sum(axis=1)\n",
        "df_top20.sort_values(by=['total'], ascending=[True], inplace=True)\n",
        "df_top20.drop('total', axis=1, inplace=True)\n",
        "sns.set_style(\"whitegrid\", {'axes.grid' : False})  ## This commands helps in avoding the grid lines\n",
        "\n",
        "ax = df_top20.plot.barh(stacked=True, figsize=(15, 9), cmap=plt.cm.get_cmap('RdYlBu'),alpha = 0.65)\n",
        "for p in ax.patches:\n",
        "    width, height = p.get_width(), p.get_height()\n",
        "    if width > 0:\n",
        "        ax.annotate(f'{width:.0f}', (p.get_x()+0.40*width,\n",
        "                                     p.get_y()+.17*height), color='white', fontsize=10)\n",
        "\n",
        "plt.title('Month Wise Subscription rate', size=20,color=\"Grey\")\n",
        "plt.xlabel('Count',color=\"Grey\")\n",
        "\n",
        "sns.despine(offset=10, trim=True); ## This trims the display frames"
      ],
      "execution_count": 57,
      "outputs": [
        {
          "output_type": "display_data",
          "data": {
            "image/png": "[encoded data removed]",
            "text/plain": [
              "<Figure size 1080x648 with 1 Axes>"
            ]
          },
          "metadata": {
            "tags": []
          }
        }
      ]
    },
    {
      "cell_type": "markdown",
      "metadata": {
        "id": "kA2H_mODdzq-",
        "colab_type": "text"
      },
      "source": [
        "* In the month May, there is a high subscription rate, Probably this could be begging of financial year and people are more tending to invest on bettern returns. This was continued till August Month"
      ]
    },
    {
      "cell_type": "code",
      "metadata": {
        "id": "fASg_DoUi33v",
        "colab_type": "code",
        "colab": {
          "base_uri": "https://localhost:8080/",
          "height": 223
        },
        "outputId": "b42a126b-1d14-462e-bcf7-970881f60b8c"
      },
      "source": [
        "# This data says Customer, who were contacted on Thurday are having high subscription rate\n",
        "pd.crosstab(data_add_train.day_of_week,data_add_train.y)"
      ],
      "execution_count": 136,
      "outputs": [
        {
          "output_type": "execute_result",
          "data": {
            "text/html": [
              "<div>\n",
              "<style scoped>\n",
              "    .dataframe tbody tr th:only-of-type {\n",
              "        vertical-align: middle;\n",
              "    }\n",
              "\n",
              "    .dataframe tbody tr th {\n",
              "        vertical-align: top;\n",
              "    }\n",
              "\n",
              "    .dataframe thead th {\n",
              "        text-align: right;\n",
              "    }\n",
              "</style>\n",
              "<table border=\"1\" class=\"dataframe\">\n",
              "  <thead>\n",
              "    <tr style=\"text-align: right;\">\n",
              "      <th>y</th>\n",
              "      <th>no</th>\n",
              "      <th>yes</th>\n",
              "    </tr>\n",
              "    <tr>\n",
              "      <th>day_of_week</th>\n",
              "      <th></th>\n",
              "      <th></th>\n",
              "    </tr>\n",
              "  </thead>\n",
              "  <tbody>\n",
              "    <tr>\n",
              "      <th>fri</th>\n",
              "      <td>6981</td>\n",
              "      <td>846</td>\n",
              "    </tr>\n",
              "    <tr>\n",
              "      <th>mon</th>\n",
              "      <td>7667</td>\n",
              "      <td>847</td>\n",
              "    </tr>\n",
              "    <tr>\n",
              "      <th>thu</th>\n",
              "      <td>7578</td>\n",
              "      <td>1045</td>\n",
              "    </tr>\n",
              "    <tr>\n",
              "      <th>tue</th>\n",
              "      <td>7137</td>\n",
              "      <td>953</td>\n",
              "    </tr>\n",
              "    <tr>\n",
              "      <th>wed</th>\n",
              "      <td>7185</td>\n",
              "      <td>949</td>\n",
              "    </tr>\n",
              "  </tbody>\n",
              "</table>\n",
              "</div>"
            ],
            "text/plain": [
              "y              no   yes\n",
              "day_of_week            \n",
              "fri          6981  846 \n",
              "mon          7667  847 \n",
              "thu          7578  1045\n",
              "tue          7137  953 \n",
              "wed          7185  949 "
            ]
          },
          "metadata": {
            "tags": []
          },
          "execution_count": 136
        }
      ]
    },
    {
      "cell_type": "code",
      "metadata": {
        "id": "JzY1tZZfkFiO",
        "colab_type": "code",
        "colab": {
          "base_uri": "https://localhost:8080/",
          "height": 711
        },
        "outputId": "2ae8f9e4-8466-4a0b-81da-b3490f34556d"
      },
      "source": [
        "# How Many times we can camapaign at customer\n",
        "## Distribution of customers who subscribed the term\n",
        "data_add_train_1 = data_add_train.loc[data_add_train['y'] == 'yes']\n",
        "data_add_train_0 = data_add_train.loc[data_add_train['y'] == 'no']\n",
        "\n",
        "plt.figure(figsize=[8,5])\n",
        "\n",
        "data_add_train_1['campaign'].hist(bins=30,color = 'slateblue')\n",
        "plt.xlabel('campaign')\n",
        "plt.ylabel('Frequency')\n",
        "\n",
        "plt.title('campaign Distribution of Subscribers')\n",
        "\n",
        "# Age Distriburtion of customers who were not subscribed\n",
        "plt.figure(figsize=[8,5])\n",
        "data_add_train_0['campaign'].hist(bins = 30,color = 'brown')\n",
        "plt.xlabel('campaign')\n",
        "plt.ylabel('Frequency')\n",
        "\n",
        "plt.title('Campaign Distribution of Non Subscribers')\n"
      ],
      "execution_count": 190,
      "outputs": [
        {
          "output_type": "execute_result",
          "data": {
            "text/plain": [
              "Text(0.5, 1.0, 'Campaign Distribution of Non Subscribers')"
            ]
          },
          "metadata": {
            "tags": []
          },
          "execution_count": 190
        },
        {
          "output_type": "display_data",
          "data": {
            "image/png": "[encoded data removed]",
            "text/plain": [
              "<Figure size 576x360 with 1 Axes>"
            ]
          },
          "metadata": {
            "tags": []
          }
        },
        {
          "output_type": "display_data",
          "data": {
            "image/png": "[encoded data removed]",
            "text/plain": [
              "<Figure size 576x360 with 1 Axes>"
            ]
          },
          "metadata": {
            "tags": []
          }
        }
      ]
    },
    {
      "cell_type": "markdown",
      "metadata": {
        "id": "dMiEEGRIlC51",
        "colab_type": "text"
      },
      "source": [
        "* Calling more than ten times a same customer during a single marketing campaign seems excessive. This could also lead sometimes as marketing harassment, but we can consider here as outliers\n",
        "\n",
        "\n"
      ]
    },
    {
      "cell_type": "code",
      "metadata": {
        "id": "IMdcbiDbpejt",
        "colab_type": "code",
        "colab": {}
      },
      "source": [
        "data_add_train.pdays.value_counts()\n",
        "data_add_train['pdays'] = data_add_train['pdays'].astype('str')\n",
        "\n",
        "data_add_train['pdays'] = np.where(data_add_train['pdays']== '999', '0', '1')\n"
      ],
      "execution_count": 0,
      "outputs": []
    },
    {
      "cell_type": "code",
      "metadata": {
        "id": "n_oFoPGZpiMw",
        "colab_type": "code",
        "colab": {
          "base_uri": "https://localhost:8080/",
          "height": 135
        },
        "outputId": "ea36ef07-1ff2-4388-d088-b558b0c9c1e9"
      },
      "source": [
        "# If a customer has already been contacted in previous campaign, how many days passed meanwhile?\n",
        "# Here, if a customer contacted 999 means, he was not contacted. Let's us make it to Zero\n",
        "\n",
        "pd.crosstab(data_add_train.pdays,data_add_train.y)\n"
      ],
      "execution_count": 162,
      "outputs": [
        {
          "output_type": "execute_result",
          "data": {
            "text/html": [
              "<div>\n",
              "<style scoped>\n",
              "    .dataframe tbody tr th:only-of-type {\n",
              "        vertical-align: middle;\n",
              "    }\n",
              "\n",
              "    .dataframe tbody tr th {\n",
              "        vertical-align: top;\n",
              "    }\n",
              "\n",
              "    .dataframe thead th {\n",
              "        text-align: right;\n",
              "    }\n",
              "</style>\n",
              "<table border=\"1\" class=\"dataframe\">\n",
              "  <thead>\n",
              "    <tr style=\"text-align: right;\">\n",
              "      <th>y</th>\n",
              "      <th>no</th>\n",
              "      <th>yes</th>\n",
              "    </tr>\n",
              "    <tr>\n",
              "      <th>pdays</th>\n",
              "      <th></th>\n",
              "      <th></th>\n",
              "    </tr>\n",
              "  </thead>\n",
              "  <tbody>\n",
              "    <tr>\n",
              "      <th>0</th>\n",
              "      <td>36000</td>\n",
              "      <td>3673</td>\n",
              "    </tr>\n",
              "    <tr>\n",
              "      <th>1</th>\n",
              "      <td>548</td>\n",
              "      <td>967</td>\n",
              "    </tr>\n",
              "  </tbody>\n",
              "</table>\n",
              "</div>"
            ],
            "text/plain": [
              "y         no   yes\n",
              "pdays             \n",
              "0      36000  3673\n",
              "1      548    967 "
            ]
          },
          "metadata": {
            "tags": []
          },
          "execution_count": 162
        }
      ]
    },
    {
      "cell_type": "code",
      "metadata": {
        "id": "g18FIj2Sp_3r",
        "colab_type": "code",
        "colab": {}
      },
      "source": [
        "# It seems recontacting a customer after the previous campaign has more chances to increase the chances of subscription"
      ],
      "execution_count": 0,
      "outputs": []
    },
    {
      "cell_type": "code",
      "metadata": {
        "id": "Yapa7-vJqAeA",
        "colab_type": "code",
        "colab": {
          "base_uri": "https://localhost:8080/",
          "height": 868
        },
        "outputId": "a34b10f2-3018-4afe-ebe1-f56f5a46584e"
      },
      "source": [
        "#data_add_train['pdays'] = np.where(data_add_train['pdays']== 999, 0 )\n",
        "pd.crosstab(data_add_train.pdays,data_add_train.y)\n",
        "#data_add_train.pdays.value_counts()"
      ],
      "execution_count": 166,
      "outputs": [
        {
          "output_type": "execute_result",
          "data": {
            "text/html": [
              "<div>\n",
              "<style scoped>\n",
              "    .dataframe tbody tr th:only-of-type {\n",
              "        vertical-align: middle;\n",
              "    }\n",
              "\n",
              "    .dataframe tbody tr th {\n",
              "        vertical-align: top;\n",
              "    }\n",
              "\n",
              "    .dataframe thead th {\n",
              "        text-align: right;\n",
              "    }\n",
              "</style>\n",
              "<table border=\"1\" class=\"dataframe\">\n",
              "  <thead>\n",
              "    <tr style=\"text-align: right;\">\n",
              "      <th>y</th>\n",
              "      <th>no</th>\n",
              "      <th>yes</th>\n",
              "    </tr>\n",
              "    <tr>\n",
              "      <th>pdays</th>\n",
              "      <th></th>\n",
              "      <th></th>\n",
              "    </tr>\n",
              "  </thead>\n",
              "  <tbody>\n",
              "    <tr>\n",
              "      <th>0</th>\n",
              "      <td>5</td>\n",
              "      <td>10</td>\n",
              "    </tr>\n",
              "    <tr>\n",
              "      <th>1</th>\n",
              "      <td>18</td>\n",
              "      <td>8</td>\n",
              "    </tr>\n",
              "    <tr>\n",
              "      <th>2</th>\n",
              "      <td>24</td>\n",
              "      <td>37</td>\n",
              "    </tr>\n",
              "    <tr>\n",
              "      <th>3</th>\n",
              "      <td>141</td>\n",
              "      <td>298</td>\n",
              "    </tr>\n",
              "    <tr>\n",
              "      <th>4</th>\n",
              "      <td>55</td>\n",
              "      <td>63</td>\n",
              "    </tr>\n",
              "    <tr>\n",
              "      <th>5</th>\n",
              "      <td>17</td>\n",
              "      <td>29</td>\n",
              "    </tr>\n",
              "    <tr>\n",
              "      <th>6</th>\n",
              "      <td>123</td>\n",
              "      <td>289</td>\n",
              "    </tr>\n",
              "    <tr>\n",
              "      <th>7</th>\n",
              "      <td>20</td>\n",
              "      <td>40</td>\n",
              "    </tr>\n",
              "    <tr>\n",
              "      <th>8</th>\n",
              "      <td>6</td>\n",
              "      <td>12</td>\n",
              "    </tr>\n",
              "    <tr>\n",
              "      <th>9</th>\n",
              "      <td>29</td>\n",
              "      <td>35</td>\n",
              "    </tr>\n",
              "    <tr>\n",
              "      <th>10</th>\n",
              "      <td>22</td>\n",
              "      <td>30</td>\n",
              "    </tr>\n",
              "    <tr>\n",
              "      <th>11</th>\n",
              "      <td>13</td>\n",
              "      <td>15</td>\n",
              "    </tr>\n",
              "    <tr>\n",
              "      <th>12</th>\n",
              "      <td>32</td>\n",
              "      <td>26</td>\n",
              "    </tr>\n",
              "    <tr>\n",
              "      <th>13</th>\n",
              "      <td>8</td>\n",
              "      <td>28</td>\n",
              "    </tr>\n",
              "    <tr>\n",
              "      <th>14</th>\n",
              "      <td>9</td>\n",
              "      <td>11</td>\n",
              "    </tr>\n",
              "    <tr>\n",
              "      <th>15</th>\n",
              "      <td>8</td>\n",
              "      <td>16</td>\n",
              "    </tr>\n",
              "    <tr>\n",
              "      <th>16</th>\n",
              "      <td>5</td>\n",
              "      <td>6</td>\n",
              "    </tr>\n",
              "    <tr>\n",
              "      <th>17</th>\n",
              "      <td>6</td>\n",
              "      <td>2</td>\n",
              "    </tr>\n",
              "    <tr>\n",
              "      <th>18</th>\n",
              "      <td>3</td>\n",
              "      <td>4</td>\n",
              "    </tr>\n",
              "    <tr>\n",
              "      <th>19</th>\n",
              "      <td>2</td>\n",
              "      <td>1</td>\n",
              "    </tr>\n",
              "    <tr>\n",
              "      <th>20</th>\n",
              "      <td>1</td>\n",
              "      <td>0</td>\n",
              "    </tr>\n",
              "    <tr>\n",
              "      <th>21</th>\n",
              "      <td>0</td>\n",
              "      <td>2</td>\n",
              "    </tr>\n",
              "    <tr>\n",
              "      <th>22</th>\n",
              "      <td>1</td>\n",
              "      <td>2</td>\n",
              "    </tr>\n",
              "    <tr>\n",
              "      <th>25</th>\n",
              "      <td>0</td>\n",
              "      <td>1</td>\n",
              "    </tr>\n",
              "    <tr>\n",
              "      <th>26</th>\n",
              "      <td>0</td>\n",
              "      <td>1</td>\n",
              "    </tr>\n",
              "    <tr>\n",
              "      <th>27</th>\n",
              "      <td>0</td>\n",
              "      <td>1</td>\n",
              "    </tr>\n",
              "    <tr>\n",
              "      <th>999</th>\n",
              "      <td>36000</td>\n",
              "      <td>3673</td>\n",
              "    </tr>\n",
              "  </tbody>\n",
              "</table>\n",
              "</div>"
            ],
            "text/plain": [
              "y         no   yes\n",
              "pdays             \n",
              "0      5      10  \n",
              "1      18     8   \n",
              "2      24     37  \n",
              "3      141    298 \n",
              "4      55     63  \n",
              "5      17     29  \n",
              "6      123    289 \n",
              "7      20     40  \n",
              "8      6      12  \n",
              "9      29     35  \n",
              "10     22     30  \n",
              "11     13     15  \n",
              "12     32     26  \n",
              "13     8      28  \n",
              "14     9      11  \n",
              "15     8      16  \n",
              "16     5      6   \n",
              "17     6      2   \n",
              "18     3      4   \n",
              "19     2      1   \n",
              "20     1      0   \n",
              "21     0      2   \n",
              "22     1      2   \n",
              "25     0      1   \n",
              "26     0      1   \n",
              "27     0      1   \n",
              "999    36000  3673"
            ]
          },
          "metadata": {
            "tags": []
          },
          "execution_count": 166
        }
      ]
    },
    {
      "cell_type": "markdown",
      "metadata": {
        "id": "sD7hRp8Ur-0f",
        "colab_type": "text"
      },
      "source": [
        "* If we can contact a customer min of three and maximum of six, there a very high chance that client can get subscribe to the term deposit\n"
      ]
    },
    {
      "cell_type": "code",
      "metadata": {
        "id": "Y4_qqh9tswuP",
        "colab_type": "code",
        "colab": {
          "base_uri": "https://localhost:8080/",
          "height": 194
        },
        "outputId": "4c32e59f-268d-4eba-8a05-5fc0820c6856"
      },
      "source": [
        "data.head()"
      ],
      "execution_count": 168,
      "outputs": [
        {
          "output_type": "execute_result",
          "data": {
            "text/html": [
              "<div>\n",
              "<style scoped>\n",
              "    .dataframe tbody tr th:only-of-type {\n",
              "        vertical-align: middle;\n",
              "    }\n",
              "\n",
              "    .dataframe tbody tr th {\n",
              "        vertical-align: top;\n",
              "    }\n",
              "\n",
              "    .dataframe thead th {\n",
              "        text-align: right;\n",
              "    }\n",
              "</style>\n",
              "<table border=\"1\" class=\"dataframe\">\n",
              "  <thead>\n",
              "    <tr style=\"text-align: right;\">\n",
              "      <th></th>\n",
              "      <th>month</th>\n",
              "      <th>y</th>\n",
              "      <th>Percent</th>\n",
              "    </tr>\n",
              "  </thead>\n",
              "  <tbody>\n",
              "    <tr>\n",
              "      <th>0</th>\n",
              "      <td>apr</td>\n",
              "      <td>no</td>\n",
              "      <td>2093</td>\n",
              "    </tr>\n",
              "    <tr>\n",
              "      <th>1</th>\n",
              "      <td>apr</td>\n",
              "      <td>yes</td>\n",
              "      <td>539</td>\n",
              "    </tr>\n",
              "    <tr>\n",
              "      <th>2</th>\n",
              "      <td>aug</td>\n",
              "      <td>no</td>\n",
              "      <td>5523</td>\n",
              "    </tr>\n",
              "    <tr>\n",
              "      <th>3</th>\n",
              "      <td>aug</td>\n",
              "      <td>yes</td>\n",
              "      <td>655</td>\n",
              "    </tr>\n",
              "    <tr>\n",
              "      <th>4</th>\n",
              "      <td>dec</td>\n",
              "      <td>no</td>\n",
              "      <td>93</td>\n",
              "    </tr>\n",
              "  </tbody>\n",
              "</table>\n",
              "</div>"
            ],
            "text/plain": [
              "  month    y  Percent\n",
              "0  apr   no   2093   \n",
              "1  apr   yes  539    \n",
              "2  aug   no   5523   \n",
              "3  aug   yes  655    \n",
              "4  dec   no   93     "
            ]
          },
          "metadata": {
            "tags": []
          },
          "execution_count": 168
        }
      ]
    },
    {
      "cell_type": "code",
      "metadata": {
        "id": "8wfY8ypqtCQj",
        "colab_type": "code",
        "colab": {}
      },
      "source": [
        "data_add_train.dtypes\n",
        "\n",
        "data_add_train['Percent'] = 1\n",
        "data = data_add_train.groupby(['pdays','y']).agg({'Percent': 'sum'})\n",
        "data.reset_index(inplace = True)\n",
        "data = data[data.pdays != 999]"
      ],
      "execution_count": 0,
      "outputs": []
    },
    {
      "cell_type": "code",
      "metadata": {
        "id": "s035R9lfthvC",
        "colab_type": "code",
        "colab": {}
      },
      "source": [
        "df_top20 = data.loc[data['pdays'] <= 10,['pdays', 'y', 'Percent']].pivot(columns='y',index='pdays',values='Percent')\n"
      ],
      "execution_count": 0,
      "outputs": []
    },
    {
      "cell_type": "code",
      "metadata": {
        "id": "_BtimolRsQ-C",
        "colab_type": "code",
        "colab": {
          "base_uri": "https://localhost:8080/",
          "height": 642
        },
        "outputId": "ea018c7c-35b0-4f0c-c845-c026faa7a289"
      },
      "source": [
        "df_top20['total'] = df_top20.sum(axis=1)\n",
        "df_top20.sort_values(by=['total'], ascending=[True], inplace=True)\n",
        "df_top20.drop('total', axis=1, inplace=True)\n",
        "sns.set_style(\"whitegrid\", {'axes.grid' : False})  ## This commands helps in avoding the grid lines\n",
        "\n",
        "ax = df_top20.plot.barh(stacked=True, figsize=(10, 10), cmap=plt.cm.get_cmap('RdYlBu'),alpha = 0.65)\n",
        "for p in ax.patches:\n",
        "    width, height = p.get_width(), p.get_height()\n",
        "    if width > 0:\n",
        "        ax.annotate(f'{width:.0f}', (p.get_x()+0.40*width,\n",
        "                                     p.get_y()+.17*height), color='white', fontsize=10)\n",
        "\n",
        "plt.title('No.of Passed days Wise Subscription rate', size=20,color=\"Grey\")\n",
        "plt.xlabel('Count',color=\"Grey\")\n",
        "plt.ylabel('No.of passed days')\n",
        "sns.despine(offset=10, trim=True); ## This trims the display frames"
      ],
      "execution_count": 30,
      "outputs": [
        {
          "output_type": "display_data",
          "data": {
            "image/png": "[encoded data removed]",
            "text/plain": [
              "<Figure size 720x720 with 1 Axes>"
            ]
          },
          "metadata": {
            "tags": []
          }
        }
      ]
    },
    {
      "cell_type": "markdown",
      "metadata": {
        "id": "x83_GsD5vLfu",
        "colab_type": "text"
      },
      "source": [
        "* If we can contact a customer minimum of three to maximun of six days after last campaign, there is high chances of a customer can turn and subscribe the term deposit\n"
      ]
    },
    {
      "cell_type": "code",
      "metadata": {
        "id": "H9fPH31Goj9E",
        "colab_type": "code",
        "colab": {
          "base_uri": "https://localhost:8080/",
          "height": 647
        },
        "outputId": "71ff08a5-a64e-4e31-de3f-394769a7ea64"
      },
      "source": [
        "##\n",
        "plt.figure(figsize=(10,10))\n",
        "sns.set(style=\"whitegrid\",font_scale=1)\n",
        "\n",
        "\n",
        "ax = sns.boxplot(x=\"duration\", hue='y' , y = 'y', data = data_add_train)\n",
        "ax.set(xlabel='Duration (Sec)', ylabel='Deposit')\n",
        "\n",
        "plt.title(' Duration time of Depositers Vs Non-Depositers',fontsize = 15)\n"
      ],
      "execution_count": 32,
      "outputs": [
        {
          "output_type": "execute_result",
          "data": {
            "text/plain": [
              "Text(0.5, 1.0, ' Duration time of Depositers Vs Non-Depositers')"
            ]
          },
          "metadata": {
            "tags": []
          },
          "execution_count": 32
        },
        {
          "output_type": "display_data",
          "data": {
            "image/png": "[encoded data removed]",
            "text/plain": [
              "<Figure size 720x720 with 1 Axes>"
            ]
          },
          "metadata": {
            "tags": []
          }
        }
      ]
    },
    {
      "cell_type": "markdown",
      "metadata": {
        "id": "ivCnLA1lopBh",
        "colab_type": "text"
      },
      "source": [
        "* The average time spent by a customer who subscribed to term deposit is slightly higher when compared to non-subscriber"
      ]
    },
    {
      "cell_type": "code",
      "metadata": {
        "id": "qzu4qzGvwHBM",
        "colab_type": "code",
        "colab": {
          "base_uri": "https://localhost:8080/",
          "height": 311
        },
        "outputId": "ddc1e64a-9246-4ab2-ad66-9880d17e5284"
      },
      "source": [
        "pd.crosstab(data_add_train.previous,data_add_train.y)"
      ],
      "execution_count": 193,
      "outputs": [
        {
          "output_type": "execute_result",
          "data": {
            "text/html": [
              "<div>\n",
              "<style scoped>\n",
              "    .dataframe tbody tr th:only-of-type {\n",
              "        vertical-align: middle;\n",
              "    }\n",
              "\n",
              "    .dataframe tbody tr th {\n",
              "        vertical-align: top;\n",
              "    }\n",
              "\n",
              "    .dataframe thead th {\n",
              "        text-align: right;\n",
              "    }\n",
              "</style>\n",
              "<table border=\"1\" class=\"dataframe\">\n",
              "  <thead>\n",
              "    <tr style=\"text-align: right;\">\n",
              "      <th>y</th>\n",
              "      <th>no</th>\n",
              "      <th>yes</th>\n",
              "    </tr>\n",
              "    <tr>\n",
              "      <th>previous</th>\n",
              "      <th></th>\n",
              "      <th></th>\n",
              "    </tr>\n",
              "  </thead>\n",
              "  <tbody>\n",
              "    <tr>\n",
              "      <th>0</th>\n",
              "      <td>32422</td>\n",
              "      <td>3141</td>\n",
              "    </tr>\n",
              "    <tr>\n",
              "      <th>1</th>\n",
              "      <td>3594</td>\n",
              "      <td>967</td>\n",
              "    </tr>\n",
              "    <tr>\n",
              "      <th>2</th>\n",
              "      <td>404</td>\n",
              "      <td>350</td>\n",
              "    </tr>\n",
              "    <tr>\n",
              "      <th>3</th>\n",
              "      <td>88</td>\n",
              "      <td>128</td>\n",
              "    </tr>\n",
              "    <tr>\n",
              "      <th>4</th>\n",
              "      <td>32</td>\n",
              "      <td>38</td>\n",
              "    </tr>\n",
              "    <tr>\n",
              "      <th>5</th>\n",
              "      <td>5</td>\n",
              "      <td>13</td>\n",
              "    </tr>\n",
              "    <tr>\n",
              "      <th>6</th>\n",
              "      <td>2</td>\n",
              "      <td>3</td>\n",
              "    </tr>\n",
              "    <tr>\n",
              "      <th>7</th>\n",
              "      <td>1</td>\n",
              "      <td>0</td>\n",
              "    </tr>\n",
              "  </tbody>\n",
              "</table>\n",
              "</div>"
            ],
            "text/plain": [
              "y            no   yes\n",
              "previous             \n",
              "0         32422  3141\n",
              "1         3594   967 \n",
              "2         404    350 \n",
              "3         88     128 \n",
              "4         32     38  \n",
              "5         5      13  \n",
              "6         2      3   \n",
              "7         1      0   "
            ]
          },
          "metadata": {
            "tags": []
          },
          "execution_count": 193
        }
      ]
    },
    {
      "cell_type": "markdown",
      "metadata": {
        "id": "IB16gxZhyuvG",
        "colab_type": "text"
      },
      "source": [
        "* Even if we didn't contacted previously, the customer is more likely to subscribe,ideally a minimum of 3 contacts per customer has show the better outcomes.\n",
        "\n"
      ]
    },
    {
      "cell_type": "markdown",
      "metadata": {
        "id": "tE6ifsBLzqF6",
        "colab_type": "text"
      },
      "source": [
        "## <font color = red > Bi-variate Analysis"
      ]
    },
    {
      "cell_type": "code",
      "metadata": {
        "id": "NTWlGJRJysGL",
        "colab_type": "code",
        "colab": {
          "base_uri": "https://localhost:8080/",
          "height": 687
        },
        "outputId": "c84213fb-739b-4532-dd80-d60bcb144275"
      },
      "source": [
        "## Correlation Heat map on socio and economic features\n",
        "\n",
        "df1 = data_add_train[['emp.var.rate','cons.price.idx','cons.conf.idx','euribor3m','nr.employed','y']]\n",
        "\n",
        "#correlations calculations\n",
        "correlation = df1.corr()\n",
        "# Heatmap\n",
        "f, ax = plt.subplots(figsize=(11, 11))\n",
        "ax =sns.heatmap(correlation,annot=True)\n",
        "ax.set_ylim(bottom + 0.5, top - 0.5)\n",
        "bottom, top = ax.get_ylim()\n",
        "\n",
        "plt.title(' Correlation Heat Map', fontsize = 20)\n"
      ],
      "execution_count": 209,
      "outputs": [
        {
          "output_type": "execute_result",
          "data": {
            "text/plain": [
              "Text(0.5, 1.0, ' Correlation Heat Map')"
            ]
          },
          "metadata": {
            "tags": []
          },
          "execution_count": 209
        },
        {
          "output_type": "display_data",
          "data": {
            "image/png": "[encoded data removed]",
            "text/plain": [
              "<Figure size 792x792 with 2 Axes>"
            ]
          },
          "metadata": {
            "tags": []
          }
        }
      ]
    },
    {
      "cell_type": "code",
      "metadata": {
        "id": "B9T_PfCH2G4Y",
        "colab_type": "code",
        "colab": {
          "base_uri": "https://localhost:8080/",
          "height": 212
        },
        "outputId": "2f35eb7a-28c3-4f2f-8957-3ed47702bc54"
      },
      "source": [
        "## Feature Elination through VIF\n",
        "\n",
        "df1 = data_add_train[['duration','campaign','pdays','previous','emp.var.rate','cons.price.idx','cons.conf.idx','euribor3m','nr.employed','y']]\n",
        "\n",
        "from statsmodels.stats.outliers_influence import variance_inflation_factor\n",
        "from statsmodels.tools.tools import add_constant\n",
        "dff = df1.drop(['y'],axis = 1)\n",
        "X = add_constant(dff)\n",
        "pd.Series([variance_inflation_factor(X.values, i) \n",
        "               for i in range(X.shape[1])], \n",
        "              index=X.columns)"
      ],
      "execution_count": 33,
      "outputs": [
        {
          "output_type": "execute_result",
          "data": {
            "text/plain": [
              "const             528644.043254\n",
              "duration          1.009454     \n",
              "campaign          1.038282     \n",
              "pdays             1.614844     \n",
              "previous          1.796276     \n",
              "emp.var.rate      33.060975    \n",
              "cons.price.idx    6.337850     \n",
              "cons.conf.idx     2.634548     \n",
              "euribor3m         64.337875    \n",
              "nr.employed       31.673747    \n",
              "dtype: float64"
            ]
          },
          "metadata": {
            "tags": []
          },
          "execution_count": 33
        }
      ]
    },
    {
      "cell_type": "markdown",
      "metadata": {
        "id": "1r_ywiTd2kiy",
        "colab_type": "text"
      },
      "source": [
        "* Generally, Numeric Varibles having VIF < 4 is acceptable and they are having moderate correlation with target feature. It won't give very high impact.\n"
      ]
    },
    {
      "cell_type": "markdown",
      "metadata": {
        "id": "iB5Wux0wpN3n",
        "colab_type": "text"
      },
      "source": [
        "#### Please! go through Part-2 of Machine Learning Model development to know more about pre-processing, Feature Engineering and models that performed best\n"
      ]
    }
  ]
}
